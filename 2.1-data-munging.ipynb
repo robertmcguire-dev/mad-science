{
 "cells": [
  {
   "cell_type": "markdown",
   "metadata": {},
   "source": [
    "# Data Munging\n",
    "The term **mung** is a technical term that was coined about half a century ago by students of the Massachusetts Institute of Technology (MIT). Munging means to change, in a series of well-specified and reversible steps, a piece of original data to a completely different (and hopefully more useful) one. Deep-rooted in hacker culture, munging is often described in the data science pipeline using other, almost synonymous, terms such as *data wrangling* or *data preparation*.\n"
   ]
  },
  {
   "cell_type": "markdown",
   "metadata": {},
   "source": [
    "Given such premises, in this chapter, the following topics will be covered:\n",
    "* The data science process (so that you'll know what is going on and what's next)\n",
    "* Uploading data from a file\n",
    "* Selecting the data you need\n",
    "* Cleaning up any missing or wrong data\n",
    "* Adding, inserting, and deleting data\n",
    "* Grouping and transforming data to obtain new and meaningful information\n",
    "* Managing to obtain a dataset matrix or an array to feed into the data science pipeline"
   ]
  },
  {
   "cell_type": "code",
   "execution_count": null,
   "metadata": {},
   "outputs": [],
   "source": []
  }
 ],
 "metadata": {
  "kernelspec": {
   "display_name": "Python 3",
   "language": "python",
   "name": "python3"
  },
  "language_info": {
   "codemirror_mode": {
    "name": "ipython",
    "version": 3
   },
   "file_extension": ".py",
   "mimetype": "text/x-python",
   "name": "python",
   "nbconvert_exporter": "python",
   "pygments_lexer": "ipython3",
   "version": "3.7.4"
  }
 },
 "nbformat": 4,
 "nbformat_minor": 2
}
